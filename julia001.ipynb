{
 "cells": [
  {
   "cell_type": "markdown",
   "id": "68cb3a9f",
   "metadata": {},
   "source": [
    "# Arithmetical expressions"
   ]
  },
  {
   "cell_type": "code",
   "execution_count": 4,
   "id": "6d0ba400",
   "metadata": {},
   "outputs": [
    {
     "data": {
      "text/plain": [
       "-2"
      ]
     },
     "execution_count": 4,
     "metadata": {},
     "output_type": "execute_result"
    }
   ],
   "source": [
    "1 - 2 + 3 - 4"
   ]
  },
  {
   "cell_type": "code",
   "execution_count": 5,
   "id": "fa93d5c8",
   "metadata": {},
   "outputs": [
    {
     "data": {
      "text/plain": [
       "1.25"
      ]
     },
     "execution_count": 5,
     "metadata": {},
     "output_type": "execute_result"
    }
   ],
   "source": [
    "1 / 2 + 3 / 4"
   ]
  },
  {
   "cell_type": "code",
   "execution_count": 6,
   "id": "b7552603",
   "metadata": {},
   "outputs": [
    {
     "data": {
      "text/plain": [
       "0.05"
      ]
     },
     "execution_count": 6,
     "metadata": {},
     "output_type": "execute_result"
    }
   ],
   "source": [
    "1 / (2 + 3) / 4"
   ]
  },
  {
   "cell_type": "markdown",
   "id": "d7cc03b5",
   "metadata": {},
   "source": [
    "* $-$ : minus\n",
    "\n",
    "* $+$ : plus\n",
    "\n",
    "* $*$ : multiply\n",
    "\n",
    "* $/$ : divide"
   ]
  },
  {
   "cell_type": "markdown",
   "id": "2e9d0688",
   "metadata": {},
   "source": [
    "Order of operations is:\n",
    "\n",
    "* parentheses\n",
    "\n",
    "* exponention\n",
    "\n",
    "* multiplication and division\n",
    "\n",
    "* addiction and subtraction"
   ]
  },
  {
   "cell_type": "markdown",
   "id": "cdf457ce",
   "metadata": {},
   "source": [
    "# Logical expressions"
   ]
  },
  {
   "cell_type": "markdown",
   "id": "80bfd512",
   "metadata": {},
   "source": [
    "There are two logical values in julia true and false. They are Julia language reserved words."
   ]
  },
  {
   "cell_type": "markdown",
   "id": "a7d9932b",
   "metadata": {},
   "source": [
    "## Logical operators"
   ]
  },
  {
   "cell_type": "markdown",
   "id": "4cd746b4",
   "metadata": {},
   "source": [
    "* `!`  : not\n",
    "\n",
    "* `&&` : and\n",
    "\n",
    "* `||` : or"
   ]
  },
  {
   "cell_type": "markdown",
   "id": "f1806457",
   "metadata": {},
   "source": [
    "## Comparison Operators"
   ]
  },
  {
   "cell_type": "markdown",
   "id": "9f3b2745",
   "metadata": {},
   "source": [
    "* `>`  : greater\n",
    "\n",
    "* `<` : less\n",
    "\n",
    "* `==` : equall\n",
    "\n",
    "* `!=` : diferent"
   ]
  },
  {
   "cell_type": "markdown",
   "id": "d50fcb18",
   "metadata": {},
   "source": [
    "# Type System"
   ]
  },
  {
   "cell_type": "markdown",
   "id": "19f98f79",
   "metadata": {},
   "source": [
    "Use `typeof()` to find the type of a value."
   ]
  },
  {
   "cell_type": "markdown",
   "id": "14b27580",
   "metadata": {},
   "source": [
    "#### Int64"
   ]
  },
  {
   "cell_type": "code",
   "execution_count": 10,
   "id": "67dcec29",
   "metadata": {},
   "outputs": [
    {
     "data": {
      "text/plain": [
       "Int64"
      ]
     },
     "execution_count": 10,
     "metadata": {},
     "output_type": "execute_result"
    }
   ],
   "source": [
    "typeof(8)"
   ]
  },
  {
   "cell_type": "code",
   "execution_count": 11,
   "id": "e206ce45",
   "metadata": {},
   "outputs": [
    {
     "data": {
      "text/plain": [
       "Int64"
      ]
     },
     "execution_count": 11,
     "metadata": {},
     "output_type": "execute_result"
    }
   ],
   "source": [
    "typeof(2 * 6)"
   ]
  },
  {
   "cell_type": "code",
   "execution_count": 12,
   "id": "ca126343",
   "metadata": {},
   "outputs": [
    {
     "data": {
      "text/plain": [
       "Int64"
      ]
     },
     "execution_count": 12,
     "metadata": {},
     "output_type": "execute_result"
    }
   ],
   "source": [
    "typeof(2 ^ 6)"
   ]
  },
  {
   "cell_type": "code",
   "execution_count": 21,
   "id": "3d57de9e",
   "metadata": {},
   "outputs": [
    {
     "data": {
      "text/plain": [
       "Int64"
      ]
     },
     "execution_count": 21,
     "metadata": {},
     "output_type": "execute_result"
    }
   ],
   "source": [
    "typeof(3 - 9)"
   ]
  },
  {
   "cell_type": "markdown",
   "id": "bb47a407",
   "metadata": {},
   "source": [
    "#### String"
   ]
  },
  {
   "cell_type": "code",
   "execution_count": 23,
   "id": "25849e72",
   "metadata": {},
   "outputs": [
    {
     "data": {
      "text/plain": [
       "String"
      ]
     },
     "execution_count": 23,
     "metadata": {},
     "output_type": "execute_result"
    }
   ],
   "source": [
    "typeof(\"Hello, World!\")"
   ]
  },
  {
   "cell_type": "code",
   "execution_count": 25,
   "id": "9b9bdf28",
   "metadata": {},
   "outputs": [
    {
     "data": {
      "text/plain": [
       "String"
      ]
     },
     "execution_count": 25,
     "metadata": {},
     "output_type": "execute_result"
    }
   ],
   "source": [
    "typeof(\"α\")"
   ]
  },
  {
   "cell_type": "code",
   "execution_count": 39,
   "id": "9b222431",
   "metadata": {},
   "outputs": [
    {
     "data": {
      "text/plain": [
       "String"
      ]
     },
     "execution_count": 39,
     "metadata": {},
     "output_type": "execute_result"
    }
   ],
   "source": [
    "typeof(\"⋄\") # \\diamond"
   ]
  },
  {
   "cell_type": "code",
   "execution_count": 27,
   "id": "1151fc49",
   "metadata": {},
   "outputs": [
    {
     "data": {
      "text/plain": [
       "String"
      ]
     },
     "execution_count": 27,
     "metadata": {},
     "output_type": "execute_result"
    }
   ],
   "source": [
    "typeof(\"r\")"
   ]
  },
  {
   "cell_type": "code",
   "execution_count": 28,
   "id": "31aea52b",
   "metadata": {},
   "outputs": [
    {
     "data": {
      "text/plain": [
       "Char"
      ]
     },
     "execution_count": 28,
     "metadata": {},
     "output_type": "execute_result"
    }
   ],
   "source": [
    "typeof('r')"
   ]
  },
  {
   "cell_type": "markdown",
   "id": "222eb845",
   "metadata": {},
   "source": [
    "#### Char"
   ]
  },
  {
   "cell_type": "code",
   "execution_count": 29,
   "id": "fda07b0e",
   "metadata": {},
   "outputs": [
    {
     "data": {
      "text/plain": [
       "Char"
      ]
     },
     "execution_count": 29,
     "metadata": {},
     "output_type": "execute_result"
    }
   ],
   "source": [
    "typeof('a')"
   ]
  },
  {
   "cell_type": "code",
   "execution_count": 30,
   "id": "82a9c7f0",
   "metadata": {},
   "outputs": [
    {
     "data": {
      "text/plain": [
       "Char"
      ]
     },
     "execution_count": 30,
     "metadata": {},
     "output_type": "execute_result"
    }
   ],
   "source": [
    "typeof('α')"
   ]
  },
  {
   "cell_type": "code",
   "execution_count": 32,
   "id": "18702fb1",
   "metadata": {},
   "outputs": [
    {
     "ename": "LoadError",
     "evalue": "\u001b[91msyntax: invalid character literal\u001b[39m",
     "output_type": "error",
     "traceback": [
      "\u001b[91msyntax: invalid character literal\u001b[39m",
      ""
     ]
    }
   ],
   "source": [
    "typeof('Brazil')"
   ]
  },
  {
   "cell_type": "markdown",
   "id": "b745a67b",
   "metadata": {},
   "source": [
    "Char types are defined by single quotes while String types are defined by double quotes."
   ]
  },
  {
   "cell_type": "markdown",
   "id": "6b00a20f",
   "metadata": {},
   "source": [
    "#### Float64"
   ]
  },
  {
   "cell_type": "code",
   "execution_count": 37,
   "id": "52503ad8",
   "metadata": {},
   "outputs": [
    {
     "data": {
      "text/plain": [
       "Float64"
      ]
     },
     "execution_count": 37,
     "metadata": {},
     "output_type": "execute_result"
    }
   ],
   "source": [
    "typeof(3.14)"
   ]
  },
  {
   "cell_type": "code",
   "execution_count": 40,
   "id": "acbffa8d",
   "metadata": {},
   "outputs": [
    {
     "data": {
      "text/plain": [
       "Float64"
      ]
     },
     "execution_count": 40,
     "metadata": {},
     "output_type": "execute_result"
    }
   ],
   "source": [
    "typeof(9 / 3)"
   ]
  },
  {
   "cell_type": "code",
   "execution_count": 41,
   "id": "269dfda4",
   "metadata": {},
   "outputs": [
    {
     "data": {
      "text/plain": [
       "true"
      ]
     },
     "execution_count": 41,
     "metadata": {},
     "output_type": "execute_result"
    }
   ],
   "source": [
    "2.0 == 2 # true. although the types differ"
   ]
  },
  {
   "cell_type": "code",
   "execution_count": 43,
   "id": "300cb9db",
   "metadata": {},
   "outputs": [
    {
     "data": {
      "text/plain": [
       "false"
      ]
     },
     "execution_count": 43,
     "metadata": {},
     "output_type": "execute_result"
    }
   ],
   "source": [
    "2.0 === 2 # false. the values are equal but the types differ"
   ]
  },
  {
   "cell_type": "markdown",
   "id": "0e20e4df",
   "metadata": {},
   "source": [
    "### Concrete and abstract types"
   ]
  },
  {
   "cell_type": "markdown",
   "id": "d5389af3",
   "metadata": {},
   "source": [
    "All the types above are concrete types. That is, they have no subtypes.\n",
    "\n",
    "Julia defines a supertype for every type (except type `Any`, which is its own supertype).\n",
    "\n",
    "`Int64` has the supertype `Signed`, which has the supertype `Interger`, which has the supertype `Real`. `Float64` has the supertype `Real` too.\n",
    "\n",
    "`Real` and `Interger`, which can have subtypes, are called abstract types.\n",
    "\n",
    "* Some operations change the type of a value by promotion;\n",
    "\n",
    "* Functions are written to operate on types. If you write your function to use an abstract type, it will work for all the types  underneath that abstract type."
   ]
  },
  {
   "cell_type": "markdown",
   "id": "c3dff4ba",
   "metadata": {},
   "source": [
    "# Variables in julia"
   ]
  }
 ],
 "metadata": {
  "kernelspec": {
   "display_name": "Julia 1.4.1",
   "language": "julia",
   "name": "julia-1.4"
  },
  "language_info": {
   "file_extension": ".jl",
   "mimetype": "application/julia",
   "name": "julia",
   "version": "1.4.1"
  }
 },
 "nbformat": 4,
 "nbformat_minor": 5
}
